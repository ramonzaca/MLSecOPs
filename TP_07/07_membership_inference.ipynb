{
 "cells": [
  {
   "cell_type": "markdown",
   "metadata": {},
   "source": [
    "[![Open In Colab](https://colab.research.google.com/assets/colab-badge.svg)](https://colab.research.google.com/github/ramonzaca/MLSecOPs/blob/main/TP_07/07_membership_inference.ipynb)"
   ]
  },
  {
   "cell_type": "markdown",
   "metadata": {},
   "source": [
    "**How black is a black box? - Membership inference - Practice 7**\n",
    "\n",
    "*So far we've been considering a ML model as a black box.*\n",
    "\n",
    "*We did, in fact, check that we can estimate how a prediction is been done. (Prediction 5)*\n",
    "\n",
    "*And that's been done considering that the outputs the black box gives, comes from it's encoded knowledge*\n",
    "\n",
    "*So it's safe to assume that that knowledge is non-retrievable? Let's check on that.*\n"
   ]
  },
  {
   "cell_type": "code",
   "execution_count": null,
   "metadata": {},
   "outputs": [],
   "source": [
    "# Install required packages\n",
    "# !pip install adversarial-robustness-toolbox"
   ]
  },
  {
   "cell_type": "code",
   "execution_count": null,
   "metadata": {},
   "outputs": [],
   "source": [
    "import os\n",
    "import sys\n",
    "\n",
    "sys.path.insert(0, os.path.abspath(\"..\"))"
   ]
  },
  {
   "cell_type": "code",
   "execution_count": null,
   "metadata": {},
   "outputs": [],
   "source": [
    "# Membership Inference Attacks Tutorial\n",
    "\n",
    "# Imports\n",
    "import numpy as np\n",
    "import torch\n",
    "from torch import nn, optim\n",
    "from torch.utils.data import DataLoader\n",
    "from torch.utils.data.dataset import Dataset\n",
    "from sklearn.ensemble import RandomForestClassifier\n",
    "from sklearn.linear_model import LinearRegression\n",
    "from sklearn.metrics import roc_curve\n",
    "import matplotlib.pyplot as plt\n",
    "from tqdm import tqdm\n",
    "\n",
    "\n",
    "from art.utils import load_nursery, load_diabetes, to_categorical\n",
    "from art.estimators.classification.scikitlearn import ScikitlearnRandomForestClassifier\n",
    "from art.estimators.classification.pytorch import PyTorchClassifier\n",
    "from art.estimators.regression.scikitlearn import ScikitlearnRegressor\n",
    "from art.attacks.inference.membership_inference import (\n",
    "    MembershipInferenceBlackBoxRuleBased,\n",
    "    MembershipInferenceBlackBox,\n",
    "    ShadowModels,\n",
    ")\n",
    "from art.metrics.privacy.worst_case_mia_score import get_roc_for_fpr"
   ]
  },
  {
   "cell_type": "code",
   "execution_count": null,
   "metadata": {},
   "outputs": [],
   "source": [
    "# Utility Functions\n",
    "def calc_precision_recall(predicted, actual, positive_value=1):\n",
    "    score = 0  # both predicted and actual are positive\n",
    "    num_positive_predicted = 0  # predicted positive\n",
    "    num_positive_actual = 0  # actual positive\n",
    "    for i in range(len(predicted)):\n",
    "        if predicted[i] == positive_value:\n",
    "            num_positive_predicted += 1\n",
    "        if actual[i] == positive_value:\n",
    "            num_positive_actual += 1\n",
    "        if predicted[i] == actual[i]:\n",
    "            if predicted[i] == positive_value:\n",
    "                score += 1\n",
    "\n",
    "    if num_positive_predicted == 0:\n",
    "        precision = 1\n",
    "    else:\n",
    "        precision = (\n",
    "            score / num_positive_predicted\n",
    "        )  # the fraction of predicted \"Yes\" responses that are correct\n",
    "    if num_positive_actual == 0:\n",
    "        recall = 1\n",
    "    else:\n",
    "        recall = (\n",
    "            score / num_positive_actual\n",
    "        )  # the fraction of \"Yes\" responses that are predicted correctly\n",
    "\n",
    "    return precision, recall\n",
    "\n",
    "\n",
    "def print_section(title):\n",
    "    print(f\"\\n{'='*50}\\n{title}\\n{'='*50}\")"
   ]
  },
  {
   "cell_type": "code",
   "execution_count": null,
   "metadata": {},
   "outputs": [],
   "source": [
    "# 1. Random Forest Model on Nursery Dataset\n",
    "print_section(\"1. Random Forest Model on Nursery Dataset\")"
   ]
  },
  {
   "cell_type": "code",
   "execution_count": null,
   "metadata": {},
   "outputs": [],
   "source": [
    "# Load and prepare data\n",
    "(x_train, y_train), (x_test, y_test), _, _ = load_nursery(test_set=0.5)"
   ]
  },
  {
   "cell_type": "code",
   "execution_count": null,
   "metadata": {},
   "outputs": [],
   "source": [
    "# Train random forest model\n",
    "model = RandomForestClassifier()\n",
    "model.fit(x_train, y_train)\n",
    "art_classifier = ScikitlearnRandomForestClassifier(model)\n",
    "print(\"Base model accuracy:\", model.score(x_test, y_test))"
   ]
  },
  {
   "cell_type": "code",
   "execution_count": null,
   "metadata": {},
   "outputs": [],
   "source": [
    "# Rule-based attack\n",
    "attack = MembershipInferenceBlackBoxRuleBased(art_classifier)\n",
    "inferred_train = attack.infer(x_train, y_train)\n",
    "inferred_test = attack.infer(x_test, y_test)"
   ]
  },
  {
   "cell_type": "code",
   "execution_count": null,
   "metadata": {},
   "outputs": [],
   "source": [
    "# Calculate and print attack metrics\n",
    "train_acc = np.sum(inferred_train) / len(inferred_train)\n",
    "test_acc = 1 - (np.sum(inferred_test) / len(inferred_test))\n",
    "acc = (train_acc * len(inferred_train) + test_acc * len(inferred_test)) / (\n",
    "    len(inferred_train) + len(inferred_test)\n",
    ")\n",
    "print(f\"Members Accuracy: {train_acc:.4f}\")\n",
    "print(f\"Non Members Accuracy {test_acc:.4f}\")\n",
    "print(f\"Attack Accuracy {acc:.4f}\")"
   ]
  },
  {
   "cell_type": "code",
   "execution_count": null,
   "metadata": {},
   "outputs": [],
   "source": [
    "print(\n",
    "    calc_precision_recall(\n",
    "        np.concatenate((inferred_train, inferred_test)),\n",
    "        np.concatenate((np.ones(len(inferred_train)), np.zeros(len(inferred_test)))),\n",
    "    )\n",
    ")"
   ]
  },
  {
   "cell_type": "code",
   "execution_count": null,
   "metadata": {},
   "outputs": [],
   "source": [
    "# Black-box attack\n",
    "attack_train_ratio = 0.5\n",
    "attack_train_size = int(len(x_train) * attack_train_ratio)\n",
    "attack_test_size = int(len(x_test) * attack_train_ratio)\n",
    "\n",
    "bb_attack = MembershipInferenceBlackBox(art_classifier)\n",
    "bb_attack.fit(\n",
    "    x_train[:attack_train_size],\n",
    "    y_train[:attack_train_size],\n",
    "    x_test[:attack_test_size],\n",
    "    y_test[:attack_test_size],\n",
    ")"
   ]
  },
  {
   "cell_type": "code",
   "execution_count": null,
   "metadata": {},
   "outputs": [],
   "source": [
    "# Infer membership and check accuracy\n",
    "inferred_train_bb = bb_attack.infer(\n",
    "    x_train[attack_train_size:], y_train[attack_train_size:]\n",
    ")\n",
    "inferred_test_bb = bb_attack.infer(x_test[attack_test_size:], y_test[attack_test_size:])\n",
    "train_acc_bb = np.sum(inferred_train_bb) / len(inferred_train_bb)\n",
    "test_acc_bb = 1 - (np.sum(inferred_test_bb) / len(inferred_test_bb))\n",
    "acc_bb = (\n",
    "    train_acc_bb * len(inferred_train_bb) + test_acc_bb * len(inferred_test_bb)\n",
    ") / (len(inferred_train_bb) + len(inferred_test_bb))\n",
    "print(f\"Members Accuracy: {train_acc_bb:.4f}\")\n",
    "print(f\"Non Members Accuracy {test_acc_bb:.4f}\")\n",
    "print(f\"Attack Accuracy {acc_bb:.4f}\")"
   ]
  },
  {
   "cell_type": "code",
   "execution_count": null,
   "metadata": {},
   "outputs": [],
   "source": [
    "print(\n",
    "    calc_precision_recall(\n",
    "        np.concatenate((inferred_train_bb, inferred_test_bb)),\n",
    "        np.concatenate(\n",
    "            (np.ones(len(inferred_train_bb)), np.zeros(len(inferred_test_bb)))\n",
    "        ),\n",
    "    )\n",
    ")"
   ]
  },
  {
   "cell_type": "code",
   "execution_count": null,
   "metadata": {},
   "outputs": [],
   "source": [
    "# 2. Neural Network Model on Nursery Dataset\n",
    "print_section(\"2. Neural Network Model on Nursery Dataset\")"
   ]
  },
  {
   "cell_type": "code",
   "execution_count": null,
   "metadata": {},
   "outputs": [],
   "source": [
    "# Reduce dataset size and prepare data\n",
    "train_set_size = 500\n",
    "x_train, y_train = x_train[:train_set_size], y_train[:train_set_size]\n",
    "x_test, y_test = x_test[:train_set_size], y_test[:train_set_size]\n",
    "attack_train_size = int(len(x_train) * attack_train_ratio)\n",
    "attack_test_size = int(len(x_test) * attack_train_ratio)"
   ]
  },
  {
   "cell_type": "code",
   "execution_count": null,
   "metadata": {},
   "outputs": [],
   "source": [
    "# Define and train neural network model\n",
    "class ModelToAttack(nn.Module):\n",
    "    def __init__(self, num_classes, num_features):\n",
    "        super(ModelToAttack, self).__init__()\n",
    "\n",
    "        self.fc1 = nn.Sequential(\n",
    "            nn.Linear(num_features, 1024),\n",
    "            nn.Tanh(),\n",
    "        )\n",
    "\n",
    "        self.fc2 = nn.Sequential(\n",
    "            nn.Linear(1024, 512),\n",
    "            nn.Tanh(),\n",
    "        )\n",
    "\n",
    "        self.fc3 = nn.Sequential(\n",
    "            nn.Linear(512, 256),\n",
    "            nn.Tanh(),\n",
    "        )\n",
    "\n",
    "        self.fc4 = nn.Sequential(\n",
    "            nn.Linear(256, 128),\n",
    "            nn.Tanh(),\n",
    "        )\n",
    "\n",
    "        self.classifier = nn.Linear(128, num_classes)\n",
    "\n",
    "    def forward(self, x):\n",
    "        out = self.fc1(x)\n",
    "        out = self.fc2(out)\n",
    "        out = self.fc3(out)\n",
    "        out = self.fc4(out)\n",
    "        return self.classifier(out)"
   ]
  },
  {
   "cell_type": "code",
   "execution_count": null,
   "metadata": {},
   "outputs": [],
   "source": [
    "mlp_model = ModelToAttack(4, 24)\n",
    "mlp_model = torch.nn.DataParallel(mlp_model)\n",
    "criterion = nn.CrossEntropyLoss()\n",
    "optimizer = optim.Adam(mlp_model.parameters(), lr=0.01)"
   ]
  },
  {
   "cell_type": "code",
   "execution_count": null,
   "metadata": {},
   "outputs": [],
   "source": [
    "class NurseryDataset(Dataset):\n",
    "    def __init__(self, x, y=None):\n",
    "        self.x = torch.from_numpy(x.astype(np.float64)).type(torch.FloatTensor)\n",
    "\n",
    "        if y is not None:\n",
    "            self.y = torch.from_numpy(y.astype(np.int8)).type(torch.LongTensor)\n",
    "        else:\n",
    "            self.y = torch.zeros(x.shape[0])\n",
    "\n",
    "    def __len__(self):\n",
    "        return len(self.x)\n",
    "\n",
    "    def __getitem__(self, idx):\n",
    "        if idx >= len(self.x):\n",
    "            raise IndexError(\"Invalid Index\")\n",
    "\n",
    "        return self.x[idx], self.y[idx]"
   ]
  },
  {
   "cell_type": "code",
   "execution_count": null,
   "metadata": {},
   "outputs": [],
   "source": [
    "train_set = NurseryDataset(x_train, y_train)\n",
    "train_loader = DataLoader(train_set, batch_size=100, shuffle=True, num_workers=0)"
   ]
  },
  {
   "cell_type": "code",
   "execution_count": null,
   "metadata": {},
   "outputs": [],
   "source": [
    "for epoch in tqdm(range(20), desc=\"Training Epochs\"):\n",
    "    for input, targets in train_loader:\n",
    "        input, targets = (\n",
    "            torch.autograd.Variable(input),\n",
    "            torch.autograd.Variable(targets),\n",
    "        )\n",
    "\n",
    "        optimizer.zero_grad()\n",
    "        outputs = mlp_model(input)\n",
    "        loss = criterion(outputs, targets)\n",
    "\n",
    "        loss.backward()\n",
    "        optimizer.step()"
   ]
  },
  {
   "cell_type": "code",
   "execution_count": null,
   "metadata": {},
   "outputs": [],
   "source": [
    "mlp_art_model = PyTorchClassifier(\n",
    "    model=mlp_model,\n",
    "    loss=criterion,\n",
    "    optimizer=optimizer,\n",
    "    input_shape=(24,),\n",
    "    nb_classes=4,\n",
    ")\n",
    "\n",
    "train_pred = np.array(\n",
    "    [np.argmax(arr) for arr in mlp_art_model.predict(x_train.astype(np.float32))]\n",
    ")\n",
    "print(\"Base model Train accuracy: \", np.sum(train_pred == y_train) / len(y_train))"
   ]
  },
  {
   "cell_type": "code",
   "execution_count": null,
   "metadata": {},
   "outputs": [],
   "source": [
    "test_pred = np.array(\n",
    "    [np.argmax(arr) for arr in mlp_art_model.predict(x_test.astype(np.float32))]\n",
    ")\n",
    "print(\"Base model Test accuracy: \", np.sum(test_pred == y_test) / len(y_test))"
   ]
  },
  {
   "cell_type": "code",
   "execution_count": null,
   "metadata": {},
   "outputs": [],
   "source": [
    "# Rule-based attack on neural network\n",
    "mlp_attack = MembershipInferenceBlackBoxRuleBased(mlp_art_model)\n",
    "\n",
    "mlp_inferred_train = mlp_attack.infer(x_train.astype(np.float32), y_train)\n",
    "mlp_inferred_test = mlp_attack.infer(x_test.astype(np.float32), y_test)\n",
    "\n",
    "mlp_train_acc = np.sum(mlp_inferred_train) / len(mlp_inferred_train)\n",
    "mlp_test_acc = 1 - (np.sum(mlp_inferred_test) / len(mlp_inferred_test))\n",
    "mlp_acc = (\n",
    "    mlp_train_acc * len(mlp_inferred_train) + mlp_test_acc * len(mlp_inferred_test)\n",
    ") / (len(mlp_inferred_train) + len(mlp_inferred_test))\n",
    "print(mlp_train_acc)\n",
    "print(mlp_test_acc)\n",
    "print(mlp_acc)"
   ]
  },
  {
   "cell_type": "code",
   "execution_count": null,
   "metadata": {},
   "outputs": [],
   "source": [
    "print(\n",
    "    calc_precision_recall(\n",
    "        np.concatenate((mlp_inferred_train, mlp_inferred_test)),\n",
    "        np.concatenate(\n",
    "            (np.ones(len(mlp_inferred_train)), np.zeros(len(mlp_inferred_test)))\n",
    "        ),\n",
    "    )\n",
    ")"
   ]
  },
  {
   "cell_type": "code",
   "execution_count": null,
   "metadata": {},
   "outputs": [],
   "source": [
    "# Black-box attack on neural network\n",
    "mlp_attack_bb = MembershipInferenceBlackBox(mlp_art_model, attack_model_type=\"rf\")\n",
    "\n",
    "mlp_attack_bb.fit(\n",
    "    x_train[:attack_train_size].astype(np.float32),\n",
    "    y_train[:attack_train_size],\n",
    "    x_test[:attack_test_size].astype(np.float32),\n",
    "    y_test[:attack_test_size],\n",
    ")\n",
    "\n",
    "mlp_inferred_train_bb = mlp_attack_bb.infer(\n",
    "    x_train[attack_train_size:].astype(np.float32), y_train[attack_train_size:]\n",
    ")\n",
    "mlp_inferred_test_bb = mlp_attack_bb.infer(\n",
    "    x_test[attack_test_size:].astype(np.float32), y_test[attack_test_size:]\n",
    ")\n",
    "\n",
    "mlp_train_acc_bb = np.sum(mlp_inferred_train_bb) / len(mlp_inferred_train_bb)\n",
    "mlp_test_acc_bb = 1 - (np.sum(mlp_inferred_test_bb) / len(mlp_inferred_test_bb))\n",
    "mlp_acc_bb = (\n",
    "    mlp_train_acc_bb * len(mlp_inferred_train_bb)\n",
    "    + mlp_test_acc_bb * len(mlp_inferred_test_bb)\n",
    ") / (len(mlp_inferred_train_bb) + len(mlp_inferred_test_bb))\n",
    "\n",
    "print(f\"Members Accuracy: {mlp_train_acc_bb:.4f}\")\n",
    "print(f\"Non Members Accuracy {mlp_test_acc_bb:.4f}\")\n",
    "print(f\"Attack Accuracy {mlp_acc_bb:.4f}\")"
   ]
  },
  {
   "cell_type": "code",
   "execution_count": null,
   "metadata": {},
   "outputs": [],
   "source": [
    "print(\n",
    "    calc_precision_recall(\n",
    "        np.concatenate((mlp_inferred_train_bb, mlp_inferred_test_bb)),\n",
    "        np.concatenate(\n",
    "            (np.ones(len(mlp_inferred_train_bb)), np.zeros(len(mlp_inferred_test_bb)))\n",
    "        ),\n",
    "    )\n",
    ")"
   ]
  },
  {
   "cell_type": "code",
   "execution_count": null,
   "metadata": {},
   "outputs": [],
   "source": [
    "# Worst Case vs Average Case evaluation for Black-Box Attack\n",
    "bb_members_test_prob = mlp_attack_bb.infer(\n",
    "    x_train[attack_train_size:].astype(np.float32),\n",
    "    y_train[attack_train_size:],\n",
    "    probabilities=True,\n",
    ")\n",
    "bb_nonmembers_test_prob = mlp_attack_bb.infer(\n",
    "    x_test[attack_test_size:].astype(np.float32),\n",
    "    y_test[attack_test_size:],\n",
    "    probabilities=True,\n",
    ")\n",
    "\n",
    "bb_mia_test_probs = np.concatenate(\n",
    "    (\n",
    "        np.squeeze(bb_members_test_prob, axis=-1),\n",
    "        np.squeeze(bb_nonmembers_test_prob, axis=-1),\n",
    "    )\n",
    ")\n",
    "\n",
    "bb_mia_test_labels = np.concatenate(\n",
    "    (\n",
    "        np.ones_like(y_train[:attack_train_size]),\n",
    "        np.zeros_like(y_test[:attack_test_size]),\n",
    "    )\n",
    ")\n",
    "\n",
    "fpr, tpr, threshold = get_roc_for_fpr(\n",
    "    attack_proba=bb_mia_test_probs, attack_true=bb_mia_test_labels, targeted_fpr=0.01\n",
    ")[0]\n",
    "print(f\"{tpr=}: {fpr=}: {threshold=}\")"
   ]
  },
  {
   "cell_type": "code",
   "execution_count": null,
   "metadata": {},
   "outputs": [],
   "source": [
    "fpr, tpr, _ = roc_curve(y_score=bb_mia_test_probs, y_true=bb_mia_test_labels)\n",
    "plt.figure()\n",
    "plt.plot(fpr, tpr, color=\"darkorange\", linewidth=2, label=\"ROC curve\")\n",
    "plt.plot([0, 1], [0, 1], color=\"navy\", linewidth=2, linestyle=\"--\", label=\"No skills\")\n",
    "plt.xlim([0.0, 1.0])\n",
    "plt.ylim([0.0, 1.0])\n",
    "plt.xlabel(\"False Positive Rate\")\n",
    "plt.ylabel(\"True Positive Rate\")\n",
    "plt.title(\"Receiver operating characteristic example\")\n",
    "plt.legend(loc=\"lower right\")\n",
    "plt.show()"
   ]
  },
  {
   "cell_type": "code",
   "execution_count": null,
   "metadata": {},
   "outputs": [],
   "source": [
    "# 3. Shadow Models\n",
    "print_section(\"3. Shadow Models\")"
   ]
  },
  {
   "cell_type": "code",
   "execution_count": null,
   "metadata": {},
   "outputs": [],
   "source": [
    "# Load and prepare data\n",
    "(x_target, y_target), (x_shadow, y_shadow), _, _ = load_nursery(test_set=0.75)"
   ]
  },
  {
   "cell_type": "code",
   "execution_count": null,
   "metadata": {},
   "outputs": [],
   "source": [
    "target_train_size = len(x_target) // 2\n",
    "x_target_train, y_target_train = (\n",
    "    x_target[:target_train_size],\n",
    "    y_target[:target_train_size],\n",
    ")\n",
    "x_target_test, y_target_test = (\n",
    "    x_target[target_train_size:],\n",
    "    y_target[target_train_size:],\n",
    ")"
   ]
  },
  {
   "cell_type": "code",
   "execution_count": null,
   "metadata": {},
   "outputs": [],
   "source": [
    "# Train random forest model\n",
    "model = RandomForestClassifier()\n",
    "model.fit(x_target_train, y_target_train)\n",
    "art_classifier = ScikitlearnRandomForestClassifier(model)\n",
    "print(\"Base model accuracy:\", model.score(x_target_test, y_target_test))"
   ]
  },
  {
   "cell_type": "code",
   "execution_count": null,
   "metadata": {},
   "outputs": [],
   "source": [
    "# Train shadow models\n",
    "shadow_models = ShadowModels(art_classifier, num_shadow_models=3)\n",
    "shadow_dataset = shadow_models.generate_shadow_dataset(\n",
    "    x_shadow, to_categorical(y_shadow, 4)\n",
    ")\n",
    "(\n",
    "    (member_x, member_y, member_predictions),\n",
    "    (nonmember_x, nonmember_y, nonmember_predictions),\n",
    ") = shadow_dataset"
   ]
  },
  {
   "cell_type": "code",
   "execution_count": null,
   "metadata": {},
   "outputs": [],
   "source": [
    "# Shadow models' accuracy\n",
    "print(\n",
    "    [\n",
    "        sm.model.score(x_target_test, y_target_test)\n",
    "        for sm in shadow_models.get_shadow_models()\n",
    "    ]\n",
    ")"
   ]
  },
  {
   "cell_type": "code",
   "execution_count": null,
   "metadata": {},
   "outputs": [],
   "source": [
    "# Black-box attack using shadow models\n",
    "attack = MembershipInferenceBlackBox(art_classifier, attack_model_type=\"rf\")\n",
    "attack.fit(\n",
    "    member_x,\n",
    "    member_y,\n",
    "    nonmember_x,\n",
    "    nonmember_y,\n",
    "    member_predictions,\n",
    "    nonmember_predictions,\n",
    ")\n",
    "member_infer = attack.infer(x_target_train, y_target_train)\n",
    "nonmember_infer = attack.infer(x_target_test, y_target_test)\n",
    "member_acc = np.sum(member_infer) / len(x_target_train)\n",
    "nonmember_acc = 1 - np.sum(nonmember_infer) / len(x_target_test)\n",
    "acc = (member_acc * len(x_target_train) + nonmember_acc * len(x_target_test)) / (\n",
    "    len(x_target_train) + len(x_target_test)\n",
    ")\n",
    "print(\"Attack Member Acc:\", member_acc)\n",
    "print(\"Attack Non-Member Acc:\", nonmember_acc)\n",
    "print(\"Attack Accuracy:\", acc)"
   ]
  },
  {
   "cell_type": "code",
   "execution_count": null,
   "metadata": {},
   "outputs": [],
   "source": [
    "print(\n",
    "    calc_precision_recall(\n",
    "        np.concatenate((member_infer, nonmember_infer)),\n",
    "        np.concatenate((np.ones(len(member_infer)), np.zeros(len(nonmember_infer)))),\n",
    "    )\n",
    ")"
   ]
  },
  {
   "cell_type": "code",
   "execution_count": null,
   "metadata": {},
   "outputs": [],
   "source": [
    "# Rule-based attack\n",
    "baseline = MembershipInferenceBlackBoxRuleBased(art_classifier)\n",
    "\n",
    "bl_inferred_train = baseline.infer(x_target_train, y_target_train)\n",
    "bl_inferred_test = baseline.infer(x_target_test, y_target_test)\n",
    "\n",
    "bl_member_acc = np.sum(bl_inferred_train) / len(bl_inferred_train)\n",
    "bl_nonmember_acc = 1 - (np.sum(bl_inferred_test) / len(bl_inferred_test))\n",
    "bl_acc = (\n",
    "    bl_member_acc * len(bl_inferred_train) + bl_nonmember_acc * len(bl_inferred_test)\n",
    ") / (len(bl_inferred_train) + len(bl_inferred_test))\n",
    "print(bl_member_acc)\n",
    "print(bl_nonmember_acc)\n",
    "print(\"Baseline Accuracy:\", bl_acc)"
   ]
  },
  {
   "cell_type": "code",
   "execution_count": null,
   "metadata": {},
   "outputs": [],
   "source": [
    "print(\n",
    "    calc_precision_recall(\n",
    "        np.concatenate((bl_inferred_train, bl_inferred_test)),\n",
    "        np.concatenate(\n",
    "            (np.ones(len(bl_inferred_train)), np.zeros(len(bl_inferred_test)))\n",
    "        ),\n",
    "    )\n",
    ")"
   ]
  },
  {
   "cell_type": "code",
   "execution_count": null,
   "metadata": {},
   "outputs": [],
   "source": [
    "# 4. Regression Models\n",
    "print_section(\"4. Regression Models\")"
   ]
  },
  {
   "cell_type": "code",
   "execution_count": null,
   "metadata": {},
   "outputs": [],
   "source": [
    "# Load data\n",
    "(x_train, y_train), (x_test, y_test), _, _ = load_diabetes(test_set=0.5)"
   ]
  },
  {
   "cell_type": "code",
   "execution_count": null,
   "metadata": {},
   "outputs": [],
   "source": [
    "# Train MLP regression model\n",
    "model = LinearRegression()\n",
    "model.fit(x_train, y_train)\n",
    "art_regressor = ScikitlearnRegressor(model)\n",
    "print(\"Base model score:\", model.score(x_test, y_test))"
   ]
  },
  {
   "cell_type": "code",
   "execution_count": null,
   "metadata": {},
   "outputs": [],
   "source": [
    "# Black-box attack on regression model\n",
    "bb_attack = MembershipInferenceBlackBox(\n",
    "    art_regressor, attack_model_type=\"rf\", input_type=\"loss\"\n",
    ")\n",
    "\n",
    "attack_train_ratio = 0.5\n",
    "attack_train_size = int(len(x_train) * attack_train_ratio)\n",
    "attack_test_size = int(len(x_test) * attack_train_ratio)\n",
    "\n",
    "bb_attack.fit(\n",
    "    x_train[:attack_train_size],\n",
    "    y_train[:attack_train_size],\n",
    "    x_test[:attack_test_size],\n",
    "    y_test[:attack_test_size],\n",
    ")\n",
    "\n",
    "inferred_train_bb = bb_attack.infer(x_train.astype(np.float32), y_train)\n",
    "inferred_test_bb = bb_attack.infer(x_test.astype(np.float32), y_test)\n",
    "\n",
    "train_acc_bb = np.sum(inferred_train_bb) / len(inferred_train_bb)\n",
    "test_acc_bb = 1 - (np.sum(inferred_test_bb) / len(inferred_test_bb))\n",
    "acc_bb = (\n",
    "    train_acc_bb * len(inferred_train_bb) + test_acc_bb * len(inferred_test_bb)\n",
    ") / (len(inferred_train_bb) + len(inferred_test_bb))\n",
    "print(\"Member accuracy:\", train_acc_bb)\n",
    "print(\"Non-Member accuracy:\", test_acc_bb)\n",
    "print(\"Accuracy:\", acc_bb)"
   ]
  },
  {
   "cell_type": "code",
   "execution_count": null,
   "metadata": {},
   "outputs": [],
   "source": [
    "print(\n",
    "    calc_precision_recall(\n",
    "        np.concatenate((inferred_train_bb, inferred_test_bb)),\n",
    "        np.concatenate(\n",
    "            (np.ones(len(inferred_train_bb)), np.zeros(len(inferred_test_bb)))\n",
    "        ),\n",
    "    )\n",
    ")"
   ]
  }
 ],
 "metadata": {
  "kernelspec": {
   "display_name": ".venv",
   "language": "python",
   "name": "python3"
  },
  "language_info": {
   "codemirror_mode": {
    "name": "ipython",
    "version": 3
   },
   "file_extension": ".py",
   "mimetype": "text/x-python",
   "name": "python",
   "nbconvert_exporter": "python",
   "pygments_lexer": "ipython3",
   "version": "3.10.15"
  }
 },
 "nbformat": 4,
 "nbformat_minor": 2
}
