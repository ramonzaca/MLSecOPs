{
  "cells": [
    {
      "cell_type": "markdown",
      "metadata": {},
      "source": [
        "[![Open In Colab](https://colab.research.google.com/assets/colab-badge.svg)](https://colab.research.google.com/github/ramonzaca/MLSecOPs/blob/main/TP_05/05_adversarial_training.ipynb)"
      ]
    },
    {
      "cell_type": "markdown",
      "metadata": {},
      "source": [
        "**Fire with fire - models against models - Practice 5**\n",
        "\n",
        "**Let's check how can we see how robust is our model against it's evil brother**\n",
        "*We will use ART to do so.*\n"
      ]
    },
    {
      "cell_type": "markdown",
      "metadata": {},
      "source": [
        "![ART](https://raw.githubusercontent.com/Trusted-AI/adversarial-robustness-toolbox/main/docs/images/art_lfai.png)"
      ]
    },
    {
      "cell_type": "markdown",
      "metadata": {
        "id": "umOW29JFcPgs"
      },
      "source": [
        "\n",
        "*Let's setup the environment*"
      ]
    },
    {
      "cell_type": "code",
      "execution_count": null,
      "metadata": {
        "colab": {
          "base_uri": "https://localhost:8080/"
        },
        "id": "ru8A_7rpdfh1",
        "outputId": "d468b50a-bf25-41c6-8564-c2d6c5cdad91"
      },
      "outputs": [],
      "source": [
        "!pip uninstall tensorflow -y -q\n",
        "!pip install adversarial-robustness-toolbox keras==2.13.1 tensorflow git+https://github.com/nottombrown/imagenet_stubs -q"
      ]
    },
    {
      "cell_type": "markdown",
      "metadata": {},
      "source": [
        "---"
      ]
    },
    {
      "cell_type": "code",
      "execution_count": null,
      "metadata": {
        "id": "XWrfJd1ncPgt"
      },
      "outputs": [],
      "source": [
        "from __future__ import absolute_import, division, print_function, unicode_literals\n",
        "\n",
        "import warnings\n",
        "\n",
        "warnings.filterwarnings(\"ignore\")\n",
        "\n",
        "import sys\n",
        "import numpy as np\n",
        "import matplotlib.pyplot as plt\n",
        "\n",
        "%matplotlib inline\n",
        "\n",
        "import tensorflow as tf\n",
        "\n",
        "tf.compat.v1.disable_eager_execution()\n",
        "tf.keras.utils.set_random_seed(12)\n",
        "\n",
        "import h5py\n",
        "import keras\n",
        "from keras.models import load_model, Model, Sequential\n",
        "from keras.layers import Dense, Flatten, Conv2D, MaxPooling2D\n",
        "from keras.losses import categorical_crossentropy\n",
        "from keras.optimizers.legacy import Adam\n",
        "import keras.backend as k\n",
        "\n",
        "from tensorflow.keras.utils import load_img, img_to_array\n",
        "from tensorflow.keras.applications.resnet50 import ResNet50, decode_predictions\n",
        "\n",
        "from art import config\n",
        "from art.utils import load_dataset, get_file, to_categorical\n",
        "from art.estimators.classification import KerasClassifier\n",
        "from art.attacks.evasion import (\n",
        "    FastGradientMethod,\n",
        "    BasicIterativeMethod,\n",
        "    ProjectedGradientDescent,\n",
        "    BoundaryAttack,\n",
        ")\n",
        "from art.defences.trainer import AdversarialTrainer\n",
        "\n",
        "\n",
        "sys.path.append(\"..\")\n",
        "import imagenet_stubs"
      ]
    },
    {
      "cell_type": "code",
      "execution_count": null,
      "metadata": {
        "id": "vXx2rpqdcPgt"
      },
      "outputs": [],
      "source": [
        "# 1. Data Preparation\n",
        "print(\"1. Data Preparation\")\n",
        "\n",
        "(x_train, y_train), (x_test, y_test), min_, max_ = load_dataset(\"mnist\")"
      ]
    },
    {
      "cell_type": "markdown",
      "metadata": {},
      "source": [
        "---"
      ]
    },
    {
      "cell_type": "code",
      "execution_count": null,
      "metadata": {
        "id": "bRHsalDZcPgt"
      },
      "outputs": [],
      "source": [
        "# 2. Train base model\n",
        "print(\"2. Train base model\")\n",
        "\n",
        "path = get_file(\n",
        "    \"mnist_cnn_original.h5\",\n",
        "    extract=False,\n",
        "    path=config.ART_DATA_PATH,\n",
        "    url=\"https://github.com/ramonzaca/MLSecOPs/raw/main/models/mnist_cnn_original.h5\",\n",
        ")\n",
        "classifier_model = load_model(path)\n",
        "classifier = KerasClassifier(\n",
        "    clip_values=(min_, max_), model=classifier_model, use_logits=False\n",
        ")"
      ]
    },
    {
      "cell_type": "markdown",
      "metadata": {},
      "source": [
        "*If we want (and can), we can train a new model using the exact same architecture*"
      ]
    },
    {
      "cell_type": "code",
      "execution_count": null,
      "metadata": {
        "id": "7eetWFxPcPgt"
      },
      "outputs": [],
      "source": [
        "# classifier_model = Sequential()\n",
        "# classifier_model.add(Conv2D(filters=32, kernel_size=(3, 3), strides=1, activation=\"relu\", input_shape=(28, 28, 1)))\n",
        "# classifier_model.add(MaxPooling2D(pool_size=(2, 2)))\n",
        "# classifier_model.add(Conv2D(filters=64, kernel_size=(3, 3), strides=1, activation=\"relu\", input_shape=(23, 23, 4)))\n",
        "# classifier_model.add(MaxPooling2D(pool_size=(2, 2)))\n",
        "# classifier_model.add(Flatten())\n",
        "# classifier_model.add(Dense(128, activation=\"relu\"))\n",
        "# classifier_model.add(Dense(10, activation=\"softmax\"))\n",
        "\n",
        "# classifier_model.compile(loss=categorical_crossentropy, optimizer=Adam(learning_rate=1e-4), metrics=[\"accuracy\"])\n",
        "\n",
        "# classifier = KerasClassifier(clip_values=(min_, max_), model=classifier_model, use_logits=False)\n",
        "\n",
        "# classifier.fit(x_train, y_train, nb_epochs=10, batch_size=128)\n",
        "\n",
        "# classifier.model.save(\"./mnist_cnn_original.h5\")"
      ]
    },
    {
      "cell_type": "code",
      "execution_count": null,
      "metadata": {
        "colab": {
          "base_uri": "https://localhost:8080/"
        },
        "id": "QuPZefwQcPgu",
        "outputId": "24877d2c-06cc-41c4-c4e5-572c68731c06"
      },
      "outputs": [],
      "source": [
        "classifier_model.summary()"
      ]
    },
    {
      "cell_type": "markdown",
      "metadata": {},
      "source": [
        "---"
      ]
    },
    {
      "cell_type": "code",
      "execution_count": null,
      "metadata": {
        "colab": {
          "base_uri": "https://localhost:8080/"
        },
        "id": "Q3FOyJ75cPgu",
        "outputId": "43216f29-7f9b-473f-df7d-246de977b701"
      },
      "outputs": [],
      "source": [
        "# 3. Model base performance\n",
        "print(\"3. Model base performance\")\n",
        "\n",
        "x_test_pred = np.argmax(classifier.predict(x_test), axis=1)\n",
        "nb_correct_pred = np.sum(x_test_pred == np.argmax(y_test, axis=1))\n",
        "\n",
        "print(\"Original test data:\")\n",
        "print(\"Correctly classified: {}\".format(nb_correct_pred))\n",
        "print(\"Incorrectly classified: {}\".format(len(x_test) - nb_correct_pred))"
      ]
    },
    {
      "cell_type": "markdown",
      "metadata": {},
      "source": [
        "---"
      ]
    },
    {
      "cell_type": "code",
      "execution_count": null,
      "metadata": {
        "id": "NbxtQpY2cPgu"
      },
      "outputs": [],
      "source": [
        "# 4. Create adversarial samples\n",
        "print(\"4. Create adversarial samples\")\n",
        "\n",
        "attacker = FastGradientMethod(classifier, eps=0.5)\n",
        "x_test_adv = attacker.generate(x_test, y_test)"
      ]
    },
    {
      "cell_type": "markdown",
      "metadata": {},
      "source": [
        "---"
      ]
    },
    {
      "cell_type": "code",
      "execution_count": null,
      "metadata": {
        "colab": {
          "base_uri": "https://localhost:8080/"
        },
        "id": "N_kCVM_HcPgu",
        "outputId": "37dd3d52-bae8-4ef0-cb40-2fdc5a0919d8"
      },
      "outputs": [],
      "source": [
        "# 5. Evaluation of performance of adversarial samples\n",
        "print(\"5. Evaluation of performance of adversarial samples\")\n",
        "\n",
        "x_test_adv_pred = np.argmax(classifier.predict(x_test_adv), axis=1)\n",
        "nb_correct_adv_pred = np.sum(x_test_adv_pred == np.argmax(y_test, axis=1))\n",
        "\n",
        "print(\"Adversarial test data:\")\n",
        "print(\"Correctly classified: {}\".format(nb_correct_adv_pred))\n",
        "print(\"Incorrectly classified: {}\".format(len(x_test_adv) - nb_correct_adv_pred))"
      ]
    },
    {
      "cell_type": "markdown",
      "metadata": {},
      "source": [
        "---"
      ]
    },
    {
      "cell_type": "code",
      "execution_count": null,
      "metadata": {
        "id": "Zpss2jqccPgu"
      },
      "outputs": [],
      "source": [
        "# 6. Training a new model using an adversarial generator\n",
        "print(\"6. Training a new model using an adversarial generator\")\n",
        "\n",
        "path = get_file(\n",
        "    \"mnist_cnn_robust.h5\",\n",
        "    extract=False,\n",
        "    path=config.ART_DATA_PATH,\n",
        "    url=\"https://github.com/ramonzaca/MLSecOPs/raw/main/models/mnist_cnn_robust.h5\",\n",
        ")\n",
        "robust_classifier_model = load_model(path)"
      ]
    },
    {
      "cell_type": "markdown",
      "metadata": {},
      "source": [
        "---"
      ]
    },
    {
      "cell_type": "code",
      "execution_count": null,
      "metadata": {
        "id": "snTzQBpLcPgu"
      },
      "outputs": [],
      "source": [
        "# robust_classifier_model = Sequential()\n",
        "# robust_classifier_model.add(Conv2D(filters=32, kernel_size=(3, 3), strides=1, activation=\"relu\", input_shape=(28, 28, 1)))\n",
        "# robust_classifier_model.add(MaxPooling2D(pool_size=(2, 2)))\n",
        "# robust_classifier_model.add(Conv2D(filters=64, kernel_size=(3, 3), strides=1, activation=\"relu\", input_shape=(23, 23, 4)))\n",
        "# robust_classifier_model.add(MaxPooling2D(pool_size=(2, 2)))\n",
        "# robust_classifier_model.add(Flatten())\n",
        "# robust_classifier_model.add(Dense(1024, activation=\"relu\"))\n",
        "# robust_classifier_model.add(Dense(10, activation=\"softmax\"))\n",
        "\n",
        "# robust_classifier_model.compile(loss=categorical_crossentropy, optimizer=Adam(learning_rate=1e-4), metrics=[\"accuracy\"])"
      ]
    },
    {
      "cell_type": "code",
      "execution_count": null,
      "metadata": {
        "id": "98EwSP81cPgv"
      },
      "outputs": [],
      "source": [
        "robust_classifier = KerasClassifier(\n",
        "    clip_values=(min_, max_), model=robust_classifier_model, use_logits=False\n",
        ")"
      ]
    },
    {
      "cell_type": "markdown",
      "metadata": {
        "id": "tHI1Nh3ecPgv"
      },
      "source": [
        "Note: the robust classifier has the same architecture as above, except the first dense layer has **1024** instead of **128** units."
      ]
    },
    {
      "cell_type": "code",
      "execution_count": null,
      "metadata": {
        "colab": {
          "base_uri": "https://localhost:8080/"
        },
        "id": "WhVZggvAcPgv",
        "outputId": "5230dd87-b430-49f0-c626-4bbf6c618d15"
      },
      "outputs": [],
      "source": [
        "robust_classifier_model.summary()"
      ]
    },
    {
      "cell_type": "markdown",
      "metadata": {
        "id": "hZBwWjT_cPgv"
      },
      "source": [
        "We use BIM/PGD attacks during adversarial training:"
      ]
    },
    {
      "cell_type": "code",
      "execution_count": null,
      "metadata": {
        "id": "Q8oDMK_ScPgv"
      },
      "outputs": [],
      "source": [
        "attacks = BasicIterativeMethod(robust_classifier, eps=0.3, eps_step=0.01, max_iter=40)"
      ]
    },
    {
      "cell_type": "markdown",
      "metadata": {
        "id": "HmhEv4VvcPgv"
      },
      "source": [
        "Perform adversarial training:"
      ]
    },
    {
      "cell_type": "code",
      "execution_count": null,
      "metadata": {
        "colab": {
          "base_uri": "https://localhost:8080/",
          "height": 429,
          "referenced_widgets": [
            "4eb160da93114ad59a902cc2c448548d",
            "92b6ae6361d54d4b80aa867f8b540ae9",
            "e60f69ed50034510a5d9787848598975",
            "7d1e612a3a5748bfa18a57e48c6a3072",
            "6def9987ca3d437696c73ad8e21d1370",
            "387e5531c6424290aba7268e812dfdb4",
            "950ce079a80d41d9a589845435688159",
            "93c489bb5c484db89991fa6e9607baae",
            "0c204a457df44aa98d6faa9f55bfca05",
            "6d36b9f9d3184cb4a5ea52d035bbe6fd",
            "eba391c03ab545c0ac496c496b26b71c",
            "a8aeecb9a8e441798f5a80c26ec34d6a",
            "8e71b678818f4a2ca6bb320e374d79a3",
            "7825f01c3aeb419a8cee0058a690a8f1",
            "555dfdcfd6434da78530b206de309b5a",
            "d44e30c4472841789af86b4c99a8e05b",
            "9a083439cea94d46971b0a4368058e8a",
            "e76e09c9146947c7bc69e463920ec7ca",
            "6d8b1c3a9c0d44338544aa0b58d5170e",
            "fb31c413141948a6a35ef3c7a6991e52",
            "9737c6fc14d14e80959e02fd99578df4",
            "25a40c4402ce46f5be26baae1c71317e"
          ]
        },
        "id": "zaQMNKDMcPgv",
        "outputId": "e05bf195-bb09-4419-aa1f-2c3edc58ec41"
      },
      "outputs": [],
      "source": [
        "# # We had performed this before, starting with a randomly initialized model.\n",
        "# # Adversarial training takes about 20 minutes on an NVIDIA A100.\n",
        "# # The resulting model is the one loaded from mnist_cnn_robust.h5 above.\n",
        "\n",
        "# # Here is the command we had used for the Adversarial Training\n",
        "\n",
        "# trainer = AdversarialTrainer(robust_classifier, attacks, ratio=1.0)\n",
        "# trainer.fit(x_train, y_train, nb_epochs=10, batch_size=128)\n",
        "\n",
        "# trainer.classifier.model.save(\"./mnist_cnn_robust.h5\")"
      ]
    },
    {
      "cell_type": "markdown",
      "metadata": {},
      "source": [
        "---"
      ]
    },
    {
      "cell_type": "code",
      "execution_count": null,
      "metadata": {
        "colab": {
          "base_uri": "https://localhost:8080/"
        },
        "id": "k1KqLyDjcPgv",
        "outputId": "81af42ef-1e8f-4051-d9a5-6bc70c4de1e3"
      },
      "outputs": [],
      "source": [
        "# 6. Evaluation of the robust classifier's performance on the original test data\n",
        "print(\"6. Evaluation of the robust classifier's performance on the original test data\")\n",
        "\n",
        "\n",
        "x_test_robust_pred = np.argmax(robust_classifier.predict(x_test), axis=1)\n",
        "nb_correct_robust_pred = np.sum(x_test_robust_pred == np.argmax(y_test, axis=1))\n",
        "\n",
        "print(\"Original test data:\")\n",
        "print(\"Correctly classified: {}\".format(nb_correct_robust_pred))\n",
        "print(\"Incorrectly classified: {}\".format(len(x_test) - nb_correct_robust_pred))"
      ]
    },
    {
      "cell_type": "markdown",
      "metadata": {},
      "source": [
        "---"
      ]
    },
    {
      "cell_type": "code",
      "execution_count": null,
      "metadata": {
        "id": "9HIp2bjBcPgv"
      },
      "outputs": [],
      "source": [
        "# 7. Evaluation of the robust classifier's performance on the adversarial test data\n",
        "print(\n",
        "    \"7. Evaluation of the robust classifier's performance on the adversarial test data\"\n",
        ")\n",
        "\n",
        "\n",
        "attacker_robust = FastGradientMethod(robust_classifier, eps=0.5)\n",
        "x_test_adv_robust = attacker_robust.generate(x_test, y_test)"
      ]
    },
    {
      "cell_type": "code",
      "execution_count": null,
      "metadata": {
        "colab": {
          "base_uri": "https://localhost:8080/"
        },
        "id": "EUeKl7tMcPgv",
        "outputId": "53293670-cd77-4a04-fa8c-53d3fa15794f"
      },
      "outputs": [],
      "source": [
        "x_test_adv_robust_pred = np.argmax(robust_classifier.predict(x_test_adv_robust), axis=1)\n",
        "nb_correct_adv_robust_pred = np.sum(x_test_adv_robust_pred == np.argmax(y_test, axis=1))\n",
        "\n",
        "print(\"Adversarial test data:\")\n",
        "print(\"Correctly classified: {}\".format(nb_correct_adv_robust_pred))\n",
        "print(\n",
        "    \"Incorrectly classified: {}\".format(\n",
        "        len(x_test_adv_robust) - nb_correct_adv_robust_pred\n",
        "    )\n",
        ")"
      ]
    },
    {
      "cell_type": "code",
      "execution_count": null,
      "metadata": {
        "id": "G36w1FPNcPgw"
      },
      "outputs": [],
      "source": [
        "attacker_pgd = ProjectedGradientDescent(\n",
        "    estimator=classifier, eps=0.5, eps_step=0.01, max_iter=200, verbose=False\n",
        ")\n",
        "attacker_robust_pgd = ProjectedGradientDescent(\n",
        "    estimator=robust_classifier, eps=0.5, eps_step=0.01, max_iter=200, verbose=False\n",
        ")"
      ]
    },
    {
      "cell_type": "markdown",
      "metadata": {},
      "source": [
        "---"
      ]
    },
    {
      "cell_type": "code",
      "execution_count": null,
      "metadata": {
        "id": "roKIEoVEcPgw"
      },
      "outputs": [],
      "source": [
        "# 8. Comparing the performance of the original and the robust classifier over a range of `eps` values\n",
        "print(\n",
        "    \"8. Comparing the performance of the original and the robust classifier over a range of `eps` values\"\n",
        ")\n",
        "\n",
        "eps_range = [0.01, 0.02, 0.03, 0.04, 0.05, 0.1, 0.2, 0.3, 0.4, 0.5, 0.6]\n",
        "nb_correct_original = []\n",
        "nb_correct_robust = []\n",
        "\n",
        "nb_samples = 100\n",
        "\n",
        "for eps in eps_range:\n",
        "    attacker_pgd.set_params(**{\"eps\": eps})\n",
        "    attacker_robust_pgd.set_params(**{\"eps\": eps})\n",
        "    x_test_adv = attacker_pgd.generate(x_test[:nb_samples], y_test[:nb_samples])\n",
        "    x_test_adv_robust = attacker_robust_pgd.generate(\n",
        "        x_test[:nb_samples], y_test[:nb_samples]\n",
        "    )\n",
        "\n",
        "    x_test_adv_pred = np.argmax(classifier.predict(x_test_adv), axis=1)\n",
        "    nb_correct_original += [\n",
        "        np.sum(x_test_adv_pred == np.argmax(y_test[:nb_samples], axis=1)) / nb_samples\n",
        "    ]\n",
        "\n",
        "    x_test_adv_robust_pred = np.argmax(\n",
        "        robust_classifier.predict(x_test_adv_robust), axis=1\n",
        "    )\n",
        "    nb_correct_robust += [\n",
        "        np.sum(x_test_adv_robust_pred == np.argmax(y_test[:nb_samples], axis=1))\n",
        "        / nb_samples\n",
        "    ]\n",
        "\n",
        "eps_range = [0] + eps_range\n",
        "nb_correct_original = [nb_correct_pred / 10000] + nb_correct_original\n",
        "nb_correct_robust = [nb_correct_robust_pred / 10000] + nb_correct_robust"
      ]
    },
    {
      "cell_type": "markdown",
      "metadata": {},
      "source": [
        "---"
      ]
    },
    {
      "cell_type": "code",
      "execution_count": null,
      "metadata": {
        "colab": {
          "base_uri": "https://localhost:8080/",
          "height": 449
        },
        "id": "xHkBmRoicPgw",
        "outputId": "0dc08fc3-10ce-4b39-9d90-a1c56b24b52a"
      },
      "outputs": [],
      "source": [
        "# 9. Plotting performance comparisson\n",
        "print(\"9. Plotting performance comparisson\")\n",
        "\n",
        "\n",
        "fig, ax = plt.subplots()\n",
        "ax.plot(\n",
        "    np.array(eps_range),\n",
        "    np.array(nb_correct_original),\n",
        "    \"b--\",\n",
        "    label=\"Original classifier\",\n",
        ")\n",
        "ax.plot(\n",
        "    np.array(eps_range), np.array(nb_correct_robust), \"r--\", label=\"Robust classifier\"\n",
        ")\n",
        "\n",
        "legend = ax.legend(loc=\"upper right\", shadow=True, fontsize=\"large\")\n",
        "\n",
        "plt.xlabel(\"Peturbation size (eps, L-Inf)\")\n",
        "plt.ylabel(\"Classification Accuracy\")\n",
        "plt.show()"
      ]
    },
    {
      "cell_type": "markdown",
      "metadata": {},
      "source": [
        "# Boundary Attack"
      ]
    },
    {
      "cell_type": "markdown",
      "metadata": {},
      "source": [
        "---"
      ]
    },
    {
      "cell_type": "code",
      "execution_count": null,
      "metadata": {},
      "outputs": [],
      "source": [
        "# 10. Loading a vision model to attack\n",
        "print(\"10. Loading a vision model to attack\")\n",
        "\n",
        "\n",
        "mean_imagenet = np.zeros([224, 224, 3])\n",
        "mean_imagenet[..., 0].fill(103.939)\n",
        "mean_imagenet[..., 1].fill(116.779)\n",
        "mean_imagenet[..., 2].fill(123.68)\n",
        "ones_array = np.ones_like(mean_imagenet)\n",
        "model = ResNet50(weights=\"imagenet\")\n",
        "classifier = KerasClassifier(\n",
        "    clip_values=(0, 255), model=model, preprocessing=(mean_imagenet, ones_array)\n",
        ")"
      ]
    },
    {
      "cell_type": "markdown",
      "metadata": {},
      "source": [
        "---"
      ]
    },
    {
      "cell_type": "code",
      "execution_count": null,
      "metadata": {},
      "outputs": [],
      "source": [
        "# 11. Getting target and init images\n",
        "print(\"11. Getting target and init images\")\n",
        "\n",
        "\n",
        "def get_image_predictions(image):\n",
        "    predictions = classifier.predict(np.array([image[..., ::-1]]))\n",
        "    decoded_predictions = decode_predictions(predictions, top=1)\n",
        "    class_name = decoded_predictions[0][0][1]\n",
        "    return class_name"
      ]
    },
    {
      "cell_type": "code",
      "execution_count": null,
      "metadata": {},
      "outputs": [],
      "source": [
        "target_image_name = \"koala.jpg\"\n",
        "init_image_name = \"tractor.jpg\"\n",
        "\n",
        "for image_path in imagenet_stubs.get_image_paths():\n",
        "    if image_path.endswith(target_image_name):\n",
        "        target_image = load_img(image_path, target_size=(224, 224))\n",
        "        target_image = img_to_array(target_image)\n",
        "    if image_path.endswith(init_image_name):\n",
        "        init_image = load_img(image_path, target_size=(224, 224))\n",
        "        init_image = img_to_array(init_image)\n",
        "\n",
        "target_predictions = get_image_predictions(target_image)\n",
        "init_predictions = get_image_predictions(init_image)\n",
        "\n",
        "print(\n",
        "    \"Target image label:\",\n",
        "    np.argmax(classifier.predict(np.array([target_image[..., ::-1]]))[0]),\n",
        "    target_predictions,\n",
        ")\n",
        "plt.imshow(target_image.astype(np.uint))\n",
        "plt.show()\n",
        "\n",
        "print(\n",
        "    \"Init image label:\",\n",
        "    np.argmax(classifier.predict(np.array([init_image[..., ::-1]]))[0]),\n",
        "    init_predictions,\n",
        ")\n",
        "plt.imshow(init_image.astype(np.uint))\n",
        "plt.show()"
      ]
    },
    {
      "cell_type": "markdown",
      "metadata": {},
      "source": [
        "---"
      ]
    },
    {
      "cell_type": "code",
      "execution_count": null,
      "metadata": {},
      "outputs": [],
      "source": [
        "# 12. Boundary attack without a target\n",
        "print(\"12. Boundary attack without a target\")\n",
        "\n",
        "attack = BoundaryAttack(\n",
        "    estimator=classifier, targeted=False, max_iter=0, delta=0.001, epsilon=0.001\n",
        ")\n",
        "iter_step = 1\n",
        "x_adv = None\n",
        "\n",
        "for i in range(30):\n",
        "    x_adv = attack.generate(x=np.array([target_image[..., ::-1]]), x_adv_init=x_adv)\n",
        "\n",
        "    l2_error = np.linalg.norm(np.reshape(x_adv[0] - target_image[..., ::-1], [-1]))\n",
        "    class_label = np.argmax(classifier.predict(x_adv)[0])\n",
        "\n",
        "    # Get the class predictions for the adversarial image\n",
        "    class_name = get_image_predictions(x_adv[0])\n",
        "\n",
        "    print(\n",
        "        \"Adversarial image at step %d. L2 error: %.2f, Class label: %d, Class name: %s\"\n",
        "        % (i * iter_step, l2_error, class_label, class_name)\n",
        "    )\n",
        "\n",
        "    plt.imshow(x_adv[0][..., ::-1].astype(np.uint))\n",
        "    plt.show(block=False)\n",
        "\n",
        "    if hasattr(attack, \"curr_delta\") and hasattr(attack, \"curr_epsilon\"):\n",
        "        attack.max_iter = iter_step\n",
        "        attack.delta = attack.curr_delta\n",
        "        attack.epsilon = attack.curr_epsilon\n",
        "    else:\n",
        "        break"
      ]
    },
    {
      "cell_type": "markdown",
      "metadata": {},
      "source": [
        "---"
      ]
    },
    {
      "cell_type": "code",
      "execution_count": null,
      "metadata": {},
      "outputs": [],
      "source": [
        "# 12. Boundary attack with a target\n",
        "print(\"12. Boundary attack with a target\")\n",
        "\n",
        "attack = BoundaryAttack(\n",
        "    estimator=classifier, targeted=True, max_iter=0, delta=0.001, epsilon=0.001\n",
        ")\n",
        "iter_step = 1\n",
        "x_adv = np.array([init_image[..., ::-1]])\n",
        "\n",
        "for i in range(30):\n",
        "    x_adv = attack.generate(\n",
        "        x=np.array([target_image[..., ::-1]]),\n",
        "        y=to_categorical([866], 1000),\n",
        "        x_adv_init=x_adv,\n",
        "    )\n",
        "\n",
        "    l2_error = np.linalg.norm(np.reshape(x_adv[0] - target_image[..., ::-1], [-1]))\n",
        "    class_label = np.argmax(classifier.predict(x_adv)[0])\n",
        "\n",
        "    # Get the class predictions for the adversarial image\n",
        "    class_name = get_image_predictions(x_adv[0])\n",
        "\n",
        "    print(\n",
        "        \"Adversarial image at step %d. L2 error: %.2f, Class label: %d, Class name: %s\"\n",
        "        % (i * iter_step, l2_error, class_label, class_name)\n",
        "    )\n",
        "\n",
        "    plt.imshow(x_adv[0][..., ::-1].astype(np.uint))\n",
        "    plt.show(block=False)\n",
        "\n",
        "    if hasattr(attack, \"curr_delta\") and hasattr(attack, \"curr_epsilon\"):\n",
        "        attack.max_iter = iter_step\n",
        "        attack.delta = attack.curr_delta\n",
        "        attack.epsilon = attack.curr_epsilon\n",
        "    else:\n",
        "        break"
      ]
    }
  ],
  "metadata": {
    "accelerator": "GPU",
    "colab": {
      "gpuType": "T4",
      "provenance": []
    },
    "kernelspec": {
      "display_name": "Python 3",
      "name": "python3"
    },
    "language_info": {
      "codemirror_mode": {
        "name": "ipython",
        "version": 3
      },
      "file_extension": ".py",
      "mimetype": "text/x-python",
      "name": "python",
      "nbconvert_exporter": "python",
      "pygments_lexer": "ipython3",
      "version": "3.11.4"
    },
    "widgets": {
      "application/vnd.jupyter.widget-state+json": {
        "0c204a457df44aa98d6faa9f55bfca05": {
          "model_module": "@jupyter-widgets/controls",
          "model_module_version": "1.5.0",
          "model_name": "ProgressStyleModel",
          "state": {
            "_model_module": "@jupyter-widgets/controls",
            "_model_module_version": "1.5.0",
            "_model_name": "ProgressStyleModel",
            "_view_count": null,
            "_view_module": "@jupyter-widgets/base",
            "_view_module_version": "1.2.0",
            "_view_name": "StyleView",
            "bar_color": null,
            "description_width": ""
          }
        },
        "25a40c4402ce46f5be26baae1c71317e": {
          "model_module": "@jupyter-widgets/controls",
          "model_module_version": "1.5.0",
          "model_name": "DescriptionStyleModel",
          "state": {
            "_model_module": "@jupyter-widgets/controls",
            "_model_module_version": "1.5.0",
            "_model_name": "DescriptionStyleModel",
            "_view_count": null,
            "_view_module": "@jupyter-widgets/base",
            "_view_module_version": "1.2.0",
            "_view_name": "StyleView",
            "description_width": ""
          }
        },
        "387e5531c6424290aba7268e812dfdb4": {
          "model_module": "@jupyter-widgets/base",
          "model_module_version": "1.2.0",
          "model_name": "LayoutModel",
          "state": {
            "_model_module": "@jupyter-widgets/base",
            "_model_module_version": "1.2.0",
            "_model_name": "LayoutModel",
            "_view_count": null,
            "_view_module": "@jupyter-widgets/base",
            "_view_module_version": "1.2.0",
            "_view_name": "LayoutView",
            "align_content": null,
            "align_items": null,
            "align_self": null,
            "border": null,
            "bottom": null,
            "display": null,
            "flex": null,
            "flex_flow": null,
            "grid_area": null,
            "grid_auto_columns": null,
            "grid_auto_flow": null,
            "grid_auto_rows": null,
            "grid_column": null,
            "grid_gap": null,
            "grid_row": null,
            "grid_template_areas": null,
            "grid_template_columns": null,
            "grid_template_rows": null,
            "height": null,
            "justify_content": null,
            "justify_items": null,
            "left": null,
            "margin": null,
            "max_height": null,
            "max_width": null,
            "min_height": null,
            "min_width": null,
            "object_fit": null,
            "object_position": null,
            "order": null,
            "overflow": null,
            "overflow_x": null,
            "overflow_y": null,
            "padding": null,
            "right": null,
            "top": null,
            "visibility": null,
            "width": null
          }
        },
        "4eb160da93114ad59a902cc2c448548d": {
          "model_module": "@jupyter-widgets/controls",
          "model_module_version": "1.5.0",
          "model_name": "HBoxModel",
          "state": {
            "_dom_classes": [],
            "_model_module": "@jupyter-widgets/controls",
            "_model_module_version": "1.5.0",
            "_model_name": "HBoxModel",
            "_view_count": null,
            "_view_module": "@jupyter-widgets/controls",
            "_view_module_version": "1.5.0",
            "_view_name": "HBoxView",
            "box_style": "",
            "children": [
              "IPY_MODEL_92b6ae6361d54d4b80aa867f8b540ae9",
              "IPY_MODEL_e60f69ed50034510a5d9787848598975",
              "IPY_MODEL_7d1e612a3a5748bfa18a57e48c6a3072"
            ],
            "layout": "IPY_MODEL_6def9987ca3d437696c73ad8e21d1370"
          }
        },
        "555dfdcfd6434da78530b206de309b5a": {
          "model_module": "@jupyter-widgets/controls",
          "model_module_version": "1.5.0",
          "model_name": "HTMLModel",
          "state": {
            "_dom_classes": [],
            "_model_module": "@jupyter-widgets/controls",
            "_model_module_version": "1.5.0",
            "_model_name": "HTMLModel",
            "_view_count": null,
            "_view_module": "@jupyter-widgets/controls",
            "_view_module_version": "1.5.0",
            "_view_name": "HTMLView",
            "description": "",
            "description_tooltip": null,
            "layout": "IPY_MODEL_9737c6fc14d14e80959e02fd99578df4",
            "placeholder": "​",
            "style": "IPY_MODEL_25a40c4402ce46f5be26baae1c71317e",
            "value": " 0/10 [06:04&lt;?, ?it/s]"
          }
        },
        "6d36b9f9d3184cb4a5ea52d035bbe6fd": {
          "model_module": "@jupyter-widgets/base",
          "model_module_version": "1.2.0",
          "model_name": "LayoutModel",
          "state": {
            "_model_module": "@jupyter-widgets/base",
            "_model_module_version": "1.2.0",
            "_model_name": "LayoutModel",
            "_view_count": null,
            "_view_module": "@jupyter-widgets/base",
            "_view_module_version": "1.2.0",
            "_view_name": "LayoutView",
            "align_content": null,
            "align_items": null,
            "align_self": null,
            "border": null,
            "bottom": null,
            "display": null,
            "flex": null,
            "flex_flow": null,
            "grid_area": null,
            "grid_auto_columns": null,
            "grid_auto_flow": null,
            "grid_auto_rows": null,
            "grid_column": null,
            "grid_gap": null,
            "grid_row": null,
            "grid_template_areas": null,
            "grid_template_columns": null,
            "grid_template_rows": null,
            "height": null,
            "justify_content": null,
            "justify_items": null,
            "left": null,
            "margin": null,
            "max_height": null,
            "max_width": null,
            "min_height": null,
            "min_width": null,
            "object_fit": null,
            "object_position": null,
            "order": null,
            "overflow": null,
            "overflow_x": null,
            "overflow_y": null,
            "padding": null,
            "right": null,
            "top": null,
            "visibility": null,
            "width": null
          }
        },
        "6d8b1c3a9c0d44338544aa0b58d5170e": {
          "model_module": "@jupyter-widgets/base",
          "model_module_version": "1.2.0",
          "model_name": "LayoutModel",
          "state": {
            "_model_module": "@jupyter-widgets/base",
            "_model_module_version": "1.2.0",
            "_model_name": "LayoutModel",
            "_view_count": null,
            "_view_module": "@jupyter-widgets/base",
            "_view_module_version": "1.2.0",
            "_view_name": "LayoutView",
            "align_content": null,
            "align_items": null,
            "align_self": null,
            "border": null,
            "bottom": null,
            "display": null,
            "flex": null,
            "flex_flow": null,
            "grid_area": null,
            "grid_auto_columns": null,
            "grid_auto_flow": null,
            "grid_auto_rows": null,
            "grid_column": null,
            "grid_gap": null,
            "grid_row": null,
            "grid_template_areas": null,
            "grid_template_columns": null,
            "grid_template_rows": null,
            "height": null,
            "justify_content": null,
            "justify_items": null,
            "left": null,
            "margin": null,
            "max_height": null,
            "max_width": null,
            "min_height": null,
            "min_width": null,
            "object_fit": null,
            "object_position": null,
            "order": null,
            "overflow": null,
            "overflow_x": null,
            "overflow_y": null,
            "padding": null,
            "right": null,
            "top": null,
            "visibility": null,
            "width": null
          }
        },
        "6def9987ca3d437696c73ad8e21d1370": {
          "model_module": "@jupyter-widgets/base",
          "model_module_version": "1.2.0",
          "model_name": "LayoutModel",
          "state": {
            "_model_module": "@jupyter-widgets/base",
            "_model_module_version": "1.2.0",
            "_model_name": "LayoutModel",
            "_view_count": null,
            "_view_module": "@jupyter-widgets/base",
            "_view_module_version": "1.2.0",
            "_view_name": "LayoutView",
            "align_content": null,
            "align_items": null,
            "align_self": null,
            "border": null,
            "bottom": null,
            "display": null,
            "flex": null,
            "flex_flow": null,
            "grid_area": null,
            "grid_auto_columns": null,
            "grid_auto_flow": null,
            "grid_auto_rows": null,
            "grid_column": null,
            "grid_gap": null,
            "grid_row": null,
            "grid_template_areas": null,
            "grid_template_columns": null,
            "grid_template_rows": null,
            "height": null,
            "justify_content": null,
            "justify_items": null,
            "left": null,
            "margin": null,
            "max_height": null,
            "max_width": null,
            "min_height": null,
            "min_width": null,
            "object_fit": null,
            "object_position": null,
            "order": null,
            "overflow": null,
            "overflow_x": null,
            "overflow_y": null,
            "padding": null,
            "right": null,
            "top": null,
            "visibility": null,
            "width": null
          }
        },
        "7825f01c3aeb419a8cee0058a690a8f1": {
          "model_module": "@jupyter-widgets/controls",
          "model_module_version": "1.5.0",
          "model_name": "FloatProgressModel",
          "state": {
            "_dom_classes": [],
            "_model_module": "@jupyter-widgets/controls",
            "_model_module_version": "1.5.0",
            "_model_name": "FloatProgressModel",
            "_view_count": null,
            "_view_module": "@jupyter-widgets/controls",
            "_view_module_version": "1.5.0",
            "_view_name": "ProgressView",
            "bar_style": "danger",
            "description": "",
            "description_tooltip": null,
            "layout": "IPY_MODEL_6d8b1c3a9c0d44338544aa0b58d5170e",
            "max": 10,
            "min": 0,
            "orientation": "horizontal",
            "style": "IPY_MODEL_fb31c413141948a6a35ef3c7a6991e52",
            "value": 0
          }
        },
        "7d1e612a3a5748bfa18a57e48c6a3072": {
          "model_module": "@jupyter-widgets/controls",
          "model_module_version": "1.5.0",
          "model_name": "HTMLModel",
          "state": {
            "_dom_classes": [],
            "_model_module": "@jupyter-widgets/controls",
            "_model_module_version": "1.5.0",
            "_model_name": "HTMLModel",
            "_view_count": null,
            "_view_module": "@jupyter-widgets/controls",
            "_view_module_version": "1.5.0",
            "_view_name": "HTMLView",
            "description": "",
            "description_tooltip": null,
            "layout": "IPY_MODEL_6d36b9f9d3184cb4a5ea52d035bbe6fd",
            "placeholder": "​",
            "style": "IPY_MODEL_eba391c03ab545c0ac496c496b26b71c",
            "value": " 1/1 [00:00&lt;00:00, 40.61it/s]"
          }
        },
        "8e71b678818f4a2ca6bb320e374d79a3": {
          "model_module": "@jupyter-widgets/controls",
          "model_module_version": "1.5.0",
          "model_name": "HTMLModel",
          "state": {
            "_dom_classes": [],
            "_model_module": "@jupyter-widgets/controls",
            "_model_module_version": "1.5.0",
            "_model_name": "HTMLModel",
            "_view_count": null,
            "_view_module": "@jupyter-widgets/controls",
            "_view_module_version": "1.5.0",
            "_view_name": "HTMLView",
            "description": "",
            "description_tooltip": null,
            "layout": "IPY_MODEL_9a083439cea94d46971b0a4368058e8a",
            "placeholder": "​",
            "style": "IPY_MODEL_e76e09c9146947c7bc69e463920ec7ca",
            "value": "Adversarial training epochs:   0%"
          }
        },
        "92b6ae6361d54d4b80aa867f8b540ae9": {
          "model_module": "@jupyter-widgets/controls",
          "model_module_version": "1.5.0",
          "model_name": "HTMLModel",
          "state": {
            "_dom_classes": [],
            "_model_module": "@jupyter-widgets/controls",
            "_model_module_version": "1.5.0",
            "_model_name": "HTMLModel",
            "_view_count": null,
            "_view_module": "@jupyter-widgets/controls",
            "_view_module_version": "1.5.0",
            "_view_name": "HTMLView",
            "description": "",
            "description_tooltip": null,
            "layout": "IPY_MODEL_387e5531c6424290aba7268e812dfdb4",
            "placeholder": "​",
            "style": "IPY_MODEL_950ce079a80d41d9a589845435688159",
            "value": "Precompute adv samples: 100%"
          }
        },
        "93c489bb5c484db89991fa6e9607baae": {
          "model_module": "@jupyter-widgets/base",
          "model_module_version": "1.2.0",
          "model_name": "LayoutModel",
          "state": {
            "_model_module": "@jupyter-widgets/base",
            "_model_module_version": "1.2.0",
            "_model_name": "LayoutModel",
            "_view_count": null,
            "_view_module": "@jupyter-widgets/base",
            "_view_module_version": "1.2.0",
            "_view_name": "LayoutView",
            "align_content": null,
            "align_items": null,
            "align_self": null,
            "border": null,
            "bottom": null,
            "display": null,
            "flex": null,
            "flex_flow": null,
            "grid_area": null,
            "grid_auto_columns": null,
            "grid_auto_flow": null,
            "grid_auto_rows": null,
            "grid_column": null,
            "grid_gap": null,
            "grid_row": null,
            "grid_template_areas": null,
            "grid_template_columns": null,
            "grid_template_rows": null,
            "height": null,
            "justify_content": null,
            "justify_items": null,
            "left": null,
            "margin": null,
            "max_height": null,
            "max_width": null,
            "min_height": null,
            "min_width": null,
            "object_fit": null,
            "object_position": null,
            "order": null,
            "overflow": null,
            "overflow_x": null,
            "overflow_y": null,
            "padding": null,
            "right": null,
            "top": null,
            "visibility": null,
            "width": null
          }
        },
        "950ce079a80d41d9a589845435688159": {
          "model_module": "@jupyter-widgets/controls",
          "model_module_version": "1.5.0",
          "model_name": "DescriptionStyleModel",
          "state": {
            "_model_module": "@jupyter-widgets/controls",
            "_model_module_version": "1.5.0",
            "_model_name": "DescriptionStyleModel",
            "_view_count": null,
            "_view_module": "@jupyter-widgets/base",
            "_view_module_version": "1.2.0",
            "_view_name": "StyleView",
            "description_width": ""
          }
        },
        "9737c6fc14d14e80959e02fd99578df4": {
          "model_module": "@jupyter-widgets/base",
          "model_module_version": "1.2.0",
          "model_name": "LayoutModel",
          "state": {
            "_model_module": "@jupyter-widgets/base",
            "_model_module_version": "1.2.0",
            "_model_name": "LayoutModel",
            "_view_count": null,
            "_view_module": "@jupyter-widgets/base",
            "_view_module_version": "1.2.0",
            "_view_name": "LayoutView",
            "align_content": null,
            "align_items": null,
            "align_self": null,
            "border": null,
            "bottom": null,
            "display": null,
            "flex": null,
            "flex_flow": null,
            "grid_area": null,
            "grid_auto_columns": null,
            "grid_auto_flow": null,
            "grid_auto_rows": null,
            "grid_column": null,
            "grid_gap": null,
            "grid_row": null,
            "grid_template_areas": null,
            "grid_template_columns": null,
            "grid_template_rows": null,
            "height": null,
            "justify_content": null,
            "justify_items": null,
            "left": null,
            "margin": null,
            "max_height": null,
            "max_width": null,
            "min_height": null,
            "min_width": null,
            "object_fit": null,
            "object_position": null,
            "order": null,
            "overflow": null,
            "overflow_x": null,
            "overflow_y": null,
            "padding": null,
            "right": null,
            "top": null,
            "visibility": null,
            "width": null
          }
        },
        "9a083439cea94d46971b0a4368058e8a": {
          "model_module": "@jupyter-widgets/base",
          "model_module_version": "1.2.0",
          "model_name": "LayoutModel",
          "state": {
            "_model_module": "@jupyter-widgets/base",
            "_model_module_version": "1.2.0",
            "_model_name": "LayoutModel",
            "_view_count": null,
            "_view_module": "@jupyter-widgets/base",
            "_view_module_version": "1.2.0",
            "_view_name": "LayoutView",
            "align_content": null,
            "align_items": null,
            "align_self": null,
            "border": null,
            "bottom": null,
            "display": null,
            "flex": null,
            "flex_flow": null,
            "grid_area": null,
            "grid_auto_columns": null,
            "grid_auto_flow": null,
            "grid_auto_rows": null,
            "grid_column": null,
            "grid_gap": null,
            "grid_row": null,
            "grid_template_areas": null,
            "grid_template_columns": null,
            "grid_template_rows": null,
            "height": null,
            "justify_content": null,
            "justify_items": null,
            "left": null,
            "margin": null,
            "max_height": null,
            "max_width": null,
            "min_height": null,
            "min_width": null,
            "object_fit": null,
            "object_position": null,
            "order": null,
            "overflow": null,
            "overflow_x": null,
            "overflow_y": null,
            "padding": null,
            "right": null,
            "top": null,
            "visibility": null,
            "width": null
          }
        },
        "a8aeecb9a8e441798f5a80c26ec34d6a": {
          "model_module": "@jupyter-widgets/controls",
          "model_module_version": "1.5.0",
          "model_name": "HBoxModel",
          "state": {
            "_dom_classes": [],
            "_model_module": "@jupyter-widgets/controls",
            "_model_module_version": "1.5.0",
            "_model_name": "HBoxModel",
            "_view_count": null,
            "_view_module": "@jupyter-widgets/controls",
            "_view_module_version": "1.5.0",
            "_view_name": "HBoxView",
            "box_style": "",
            "children": [
              "IPY_MODEL_8e71b678818f4a2ca6bb320e374d79a3",
              "IPY_MODEL_7825f01c3aeb419a8cee0058a690a8f1",
              "IPY_MODEL_555dfdcfd6434da78530b206de309b5a"
            ],
            "layout": "IPY_MODEL_d44e30c4472841789af86b4c99a8e05b"
          }
        },
        "d44e30c4472841789af86b4c99a8e05b": {
          "model_module": "@jupyter-widgets/base",
          "model_module_version": "1.2.0",
          "model_name": "LayoutModel",
          "state": {
            "_model_module": "@jupyter-widgets/base",
            "_model_module_version": "1.2.0",
            "_model_name": "LayoutModel",
            "_view_count": null,
            "_view_module": "@jupyter-widgets/base",
            "_view_module_version": "1.2.0",
            "_view_name": "LayoutView",
            "align_content": null,
            "align_items": null,
            "align_self": null,
            "border": null,
            "bottom": null,
            "display": null,
            "flex": null,
            "flex_flow": null,
            "grid_area": null,
            "grid_auto_columns": null,
            "grid_auto_flow": null,
            "grid_auto_rows": null,
            "grid_column": null,
            "grid_gap": null,
            "grid_row": null,
            "grid_template_areas": null,
            "grid_template_columns": null,
            "grid_template_rows": null,
            "height": null,
            "justify_content": null,
            "justify_items": null,
            "left": null,
            "margin": null,
            "max_height": null,
            "max_width": null,
            "min_height": null,
            "min_width": null,
            "object_fit": null,
            "object_position": null,
            "order": null,
            "overflow": null,
            "overflow_x": null,
            "overflow_y": null,
            "padding": null,
            "right": null,
            "top": null,
            "visibility": null,
            "width": null
          }
        },
        "e60f69ed50034510a5d9787848598975": {
          "model_module": "@jupyter-widgets/controls",
          "model_module_version": "1.5.0",
          "model_name": "FloatProgressModel",
          "state": {
            "_dom_classes": [],
            "_model_module": "@jupyter-widgets/controls",
            "_model_module_version": "1.5.0",
            "_model_name": "FloatProgressModel",
            "_view_count": null,
            "_view_module": "@jupyter-widgets/controls",
            "_view_module_version": "1.5.0",
            "_view_name": "ProgressView",
            "bar_style": "success",
            "description": "",
            "description_tooltip": null,
            "layout": "IPY_MODEL_93c489bb5c484db89991fa6e9607baae",
            "max": 1,
            "min": 0,
            "orientation": "horizontal",
            "style": "IPY_MODEL_0c204a457df44aa98d6faa9f55bfca05",
            "value": 1
          }
        },
        "e76e09c9146947c7bc69e463920ec7ca": {
          "model_module": "@jupyter-widgets/controls",
          "model_module_version": "1.5.0",
          "model_name": "DescriptionStyleModel",
          "state": {
            "_model_module": "@jupyter-widgets/controls",
            "_model_module_version": "1.5.0",
            "_model_name": "DescriptionStyleModel",
            "_view_count": null,
            "_view_module": "@jupyter-widgets/base",
            "_view_module_version": "1.2.0",
            "_view_name": "StyleView",
            "description_width": ""
          }
        },
        "eba391c03ab545c0ac496c496b26b71c": {
          "model_module": "@jupyter-widgets/controls",
          "model_module_version": "1.5.0",
          "model_name": "DescriptionStyleModel",
          "state": {
            "_model_module": "@jupyter-widgets/controls",
            "_model_module_version": "1.5.0",
            "_model_name": "DescriptionStyleModel",
            "_view_count": null,
            "_view_module": "@jupyter-widgets/base",
            "_view_module_version": "1.2.0",
            "_view_name": "StyleView",
            "description_width": ""
          }
        },
        "fb31c413141948a6a35ef3c7a6991e52": {
          "model_module": "@jupyter-widgets/controls",
          "model_module_version": "1.5.0",
          "model_name": "ProgressStyleModel",
          "state": {
            "_model_module": "@jupyter-widgets/controls",
            "_model_module_version": "1.5.0",
            "_model_name": "ProgressStyleModel",
            "_view_count": null,
            "_view_module": "@jupyter-widgets/base",
            "_view_module_version": "1.2.0",
            "_view_name": "StyleView",
            "bar_color": null,
            "description_width": ""
          }
        }
      }
    }
  },
  "nbformat": 4,
  "nbformat_minor": 0
}
